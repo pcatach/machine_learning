{
 "cells": [
  {
   "cell_type": "markdown",
   "metadata": {},
   "source": [
    "# Perceptron Learning Algorithm\n",
    "\n",
    "| $\\textbf{Input} \\\\x_1,  x_2$      | $\\textbf{Output} \\\\ y$|\n",
    "| ----------- |:------:|\n",
    "|  0, 0   | -1 | \n",
    "|  0, 1   | 1 | \n",
    "|  1, 0   | 1 | \n",
    "|  1, 1   | 1 | "
   ]
  },
  {
   "cell_type": "code",
   "execution_count": 28,
   "metadata": {},
   "outputs": [],
   "source": [
    "import matplotlib.pyplot as plt\n",
    "import numpy as np\n",
    "%matplotlib inline"
   ]
  },
  {
   "cell_type": "code",
   "execution_count": 27,
   "metadata": {},
   "outputs": [
    {
     "data": {
      "image/png": "[encoded data removed]",
      "text/plain": [
       "<matplotlib.figure.Figure at 0x7fe64fead7b8>"
      ]
     },
     "metadata": {},
     "output_type": "display_data"
    }
   ],
   "source": [
    "inputs = [[1,0,0], [1,1,0], [1,0,1], [1,1,1]]\n",
    "outputs = [-1,1,1,1]\n",
    "weights = [[0.5, -1, 1]]\n",
    "\n",
    "def h(w, x):\n",
    "    result = np.dot(w, x)\n",
    "    if result > 0:\n",
    "        return 1\n",
    "    else:\n",
    "        return -1\n",
    "    \n",
    "def PLA(inputs, outputs, weights):\n",
    "    while np.dot([h(weights[0], x) for x in inputs], outputs) = len(outputs) :\n",
    "        \n",
    "    "
   ]
  },
  {
   "cell_type": "code",
   "execution_count": null,
   "metadata": {
    "collapsed": true
   },
   "outputs": [],
   "source": [
    "   \n",
    "def line(w, x):\n",
    "    return (-w[0] - w[1]*x)/w[2]\n",
    "\n",
    "plt.scatter([i[1] for i in inputs], [j[2] for j in inputs], color=[ 'r' if k==-1 else 'b' for k in output])\n",
    "plt.plot([i/10 for i in range(12)], [line(weights[0], x/10) for x in range(12)], color='black')\n",
    "plt.xlim([-0.1, 1.1])\n",
    "plt.ylim([-0.1, 1.1])\n",
    "plt.show()"
   ]
  }
 ],
 "metadata": {
  "kernelspec": {
   "display_name": "Python 3",
   "language": "python",
   "name": "python3"
  },
  "language_info": {
   "codemirror_mode": {
    "name": "ipython",
    "version": 3
   },
   "file_extension": ".py",
   "mimetype": "text/x-python",
   "name": "python",
   "nbconvert_exporter": "python",
   "pygments_lexer": "ipython3",
   "version": "3.6.3"
  }
 },
 "nbformat": 4,
 "nbformat_minor": 2
}
