{
 "cells": [
  {
   "cell_type": "markdown",
   "metadata": {},
   "source": [
    "# Perceptron Learning Algorithm\n",
    "\n",
    "| $\\textbf{Input} \\\\x_1,  x_2$      | $\\textbf{Output} \\\\ y$|\n",
    "| ----------- |:------:|\n",
    "|  0, 0   | -1 | \n",
    "|  0, 1   | 1 | \n",
    "|  1, 0   | 1 | \n",
    "|  1, 1   | 1 | \n",
    "\n",
    "Assume that, initially,\n",
    "\n",
    "$$ w(0) = (0.5, -1, 1) $$\n",
    "\n",
    "Apply the perceptron learning algorithm to this data set"
   ]
  },
  {
   "cell_type": "code",
   "execution_count": 23,
   "metadata": {
    "collapsed": true
   },
   "outputs": [],
   "source": [
    "import matplotlib.pyplot as plt\n",
    "import numpy as np\n",
    "%matplotlib inline"
   ]
  },
  {
   "cell_type": "code",
   "execution_count": 30,
   "metadata": {},
   "outputs": [
    {
     "name": "stdout",
     "output_type": "stream",
     "text": [
      "0\n",
      "1\n",
      "2\n"
     ]
    },
    {
     "ename": "IndexError",
     "evalue": "list index out of range",
     "output_type": "error",
     "traceback": [
      "\u001b[0;31m---------------------------------------------------------------------------\u001b[0m",
      "\u001b[0;31mIndexError\u001b[0m                                Traceback (most recent call last)",
      "\u001b[0;32m<ipython-input-30-1d4af34d2246>\u001b[0m in \u001b[0;36m<module>\u001b[0;34m()\u001b[0m\n\u001b[1;32m     28\u001b[0m ]\n\u001b[1;32m     29\u001b[0m \u001b[0mweights\u001b[0m \u001b[0;34m=\u001b[0m \u001b[0;34m[\u001b[0m\u001b[0mw\u001b[0m\u001b[0;34m]\u001b[0m\u001b[0;34m\u001b[0m\u001b[0m\n\u001b[0;32m---> 30\u001b[0;31m \u001b[0mPLA\u001b[0m\u001b[0;34m(\u001b[0m\u001b[0mdata_set\u001b[0m\u001b[0;34m,\u001b[0m \u001b[0mweights\u001b[0m\u001b[0;34m)\u001b[0m\u001b[0;34m\u001b[0m\u001b[0m\n\u001b[0m",
      "\u001b[0;32m<ipython-input-30-1d4af34d2246>\u001b[0m in \u001b[0;36mPLA\u001b[0;34m(data_set, weights)\u001b[0m\n\u001b[1;32m      1\u001b[0m \u001b[0;32mdef\u001b[0m \u001b[0mPLA\u001b[0m\u001b[0;34m(\u001b[0m\u001b[0mdata_set\u001b[0m\u001b[0;34m,\u001b[0m \u001b[0mweights\u001b[0m\u001b[0;34m)\u001b[0m\u001b[0;34m:\u001b[0m\u001b[0;34m\u001b[0m\u001b[0m\n\u001b[1;32m      2\u001b[0m     \u001b[0mt\u001b[0m \u001b[0;34m=\u001b[0m \u001b[0;36m0\u001b[0m\u001b[0;34m\u001b[0m\u001b[0m\n\u001b[0;32m----> 3\u001b[0;31m     \u001b[0;32mwhile\u001b[0m \u001b[0mmisclassified\u001b[0m\u001b[0;34m(\u001b[0m\u001b[0mdata_set\u001b[0m\u001b[0;34m,\u001b[0m \u001b[0mweights\u001b[0m\u001b[0;34m[\u001b[0m\u001b[0mt\u001b[0m\u001b[0;34m]\u001b[0m\u001b[0;34m)\u001b[0m \u001b[0;32mand\u001b[0m \u001b[0mt\u001b[0m\u001b[0;34m<\u001b[0m\u001b[0;36m100\u001b[0m\u001b[0;34m:\u001b[0m\u001b[0;34m\u001b[0m\u001b[0m\n\u001b[0m\u001b[1;32m      4\u001b[0m         \u001b[0mprint\u001b[0m\u001b[0;34m(\u001b[0m\u001b[0mt\u001b[0m\u001b[0;34m%\u001b[0m\u001b[0mlen\u001b[0m\u001b[0;34m(\u001b[0m\u001b[0mdata_set\u001b[0m\u001b[0;34m)\u001b[0m\u001b[0;34m)\u001b[0m\u001b[0;34m\u001b[0m\u001b[0m\n\u001b[1;32m      5\u001b[0m         \u001b[0mx\u001b[0m \u001b[0;34m=\u001b[0m \u001b[0mdata_set\u001b[0m\u001b[0;34m[\u001b[0m\u001b[0mt\u001b[0m\u001b[0;34m%\u001b[0m\u001b[0mlen\u001b[0m\u001b[0;34m(\u001b[0m\u001b[0mdata_set\u001b[0m\u001b[0;34m)\u001b[0m\u001b[0;34m]\u001b[0m\u001b[0;34m[\u001b[0m\u001b[0;36m0\u001b[0m\u001b[0;34m]\u001b[0m\u001b[0;34m\u001b[0m\u001b[0m\n",
      "\u001b[0;31mIndexError\u001b[0m: list index out of range"
     ]
    }
   ],
   "source": [
    "def PLA(data_set, weights):\n",
    "    t = 0\n",
    "    while misclassified(data_set, weights[t]) and t<100:\n",
    "        print(t%len(data_set))\n",
    "        x = data_set[t%len(data_set)][0]\n",
    "        y = data_set[t%len(data_set)][1]\n",
    "        if y != h(x, weights[t]):\n",
    "            weights.append(weights[t] + np.dot(x,y))\n",
    "        t+=1\n",
    "    return weights\n",
    "\n",
    "def misclassified(data_set, w):\n",
    "    for i in data_set:\n",
    "        if i[1] != h(i[0], w):\n",
    "            return True\n",
    "    return False\n",
    "\n",
    "def h(x, w):\n",
    "    return np.sign(np.dot(w, x))\n",
    "\n",
    "w = [0.5, -1, 1]\n",
    "x = [1, 1, 0]\n",
    "data_set = [\n",
    "    [[1,0,0], -1],\n",
    "    [[1,1,0],  1],\n",
    "    [[1,0,1],  1],\n",
    "    [[1,1,1],  1]\n",
    "]\n",
    "weights = [w]\n",
    "PLA(data_set, weights)"
   ]
  },
  {
   "cell_type": "code",
   "execution_count": null,
   "metadata": {},
   "outputs": [],
   "source": [
    "inputs = [[1,0,0], [1,1,0], [1,0,1], [1,1,1]]\n",
    "outputs = [-1,1,1,1]\n",
    "weights = [[0.5, -1, 1]]\n",
    "\n",
    "def h(w, x):\n",
    "    result = np.dot(w, x)\n",
    "    if result > 0:\n",
    "        return 1\n",
    "    else:\n",
    "        return -1\n",
    "    \n",
    "def PLA(inputs, outputs, weights):\n",
    "    while np.dot([h(weights[0], x) for x in inputs], outputs) = len(outputs) :\n",
    "        \n",
    "    "
   ]
  },
  {
   "cell_type": "code",
   "execution_count": null,
   "metadata": {
    "collapsed": true
   },
   "outputs": [],
   "source": [
    "   \n",
    "def line(w, x):\n",
    "    return (-w[0] - w[1]*x)/w[2]\n",
    "\n",
    "plt.scatter([i[1] for i in inputs], [j[2] for j in inputs], color=[ 'r' if k==-1 else 'b' for k in output])\n",
    "plt.plot([i/10 for i in range(12)], [line(weights[0], x/10) for x in range(12)], color='black')\n",
    "plt.xlim([-0.1, 1.1])\n",
    "plt.ylim([-0.1, 1.1])\n",
    "plt.show()"
   ]
  }
 ],
 "metadata": {
  "kernelspec": {
   "display_name": "Python 3",
   "language": "python",
   "name": "python3"
  },
  "language_info": {
   "codemirror_mode": {
    "name": "ipython",
    "version": 3
   },
   "file_extension": ".py",
   "mimetype": "text/x-python",
   "name": "python",
   "nbconvert_exporter": "python",
   "pygments_lexer": "ipython3",
   "version": "3.6.4"
  }
 },
 "nbformat": 4,
 "nbformat_minor": 2
}
